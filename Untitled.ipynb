{
 "cells": [
  {
   "cell_type": "code",
   "execution_count": null,
   "metadata": {},
   "outputs": [],
   "source": [
    "class Student:\n",
    "    def __init__(self):\n",
    "        self.rollno=0\n",
    "        self.name=\"\"\n",
    "        self.semester=0\n",
    "        self.branch=\"\"\n",
    "\n",
    "    def f1(self,w,x,y,z):\n",
    "        self.rollno=w\n",
    "        self.name=x\n",
    "        self.semester=y\n",
    "        self.branch=z\n",
    "        \n",
    "\n",
    "t1=Student()\n",
    "t1.f1(input(\"enter rollno:\"),input(\"enter name:\"),input(\"enter semester:\"),input(\"enter branch:\"),)\n",
    "\n",
    "print(t1.rollno,t1.name,t1.semester,t1.branch)\n",
    "\n"
   ]
  }
 ],
 "metadata": {
  "kernelspec": {
   "display_name": "Python 3",
   "language": "python",
   "name": "python3"
  },
  "language_info": {
   "codemirror_mode": {
    "name": "ipython",
    "version": 3
   },
   "file_extension": ".py",
   "mimetype": "text/x-python",
   "name": "python",
   "nbconvert_exporter": "python",
   "pygments_lexer": "ipython3",
   "version": "3.7.0"
  }
 },
 "nbformat": 4,
 "nbformat_minor": 2
}
